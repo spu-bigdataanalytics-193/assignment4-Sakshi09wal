{
  "nbformat": 4,
  "nbformat_minor": 0,
  "metadata": {
    "colab": {
      "name": "carrier_count_in_spark.ipynb",
      "provenance": [],
      "collapsed_sections": [],
      "machine_shape": "hm"
    },
    "kernelspec": {
      "name": "python3",
      "display_name": "Python 3"
    }
  },
  "cells": [
    {
      "cell_type": "code",
      "metadata": {
        "colab_type": "code",
        "id": "NM6Vz6Je3rTr",
        "colab": {}
      },
      "source": [
        ""
      ],
      "execution_count": 0,
      "outputs": []
    },
    {
      "cell_type": "code",
      "metadata": {
        "id": "4O1-eBQP8mvy",
        "colab_type": "code",
        "colab": {}
      },
      "source": [
        "# install java libs and spark.\n",
        "! apt-get install openjdk-8-jdk-headless -qq > /dev/null\n",
        "! wget -q https://www-us.apache.org/dist/spark/spark-2.4.4/spark-2.4.4-bin-hadoop2.7.tgz\n",
        "! tar xf spark-2.4.4-bin-hadoop2.7.tgz\n",
        "! pip install -q findspark\n",
        "import os\n",
        "os.environ[\"JAVA_HOME\"] = \"/usr/lib/jvm/java-8-openjdk-amd64\"\n",
        "os.environ[\"SPARK_HOME\"] = \"/content/spark-2.4.4-bin-hadoop2.7\""
      ],
      "execution_count": 0,
      "outputs": []
    },
    {
      "cell_type": "code",
      "metadata": {
        "colab_type": "code",
        "outputId": "6ed39b07-4c4c-437b-f301-a51b5c72613a",
        "id": "9KyKmGHBFlAZ",
        "colab": {
          "base_uri": "https://localhost:8080/",
          "height": 126
        }
      },
      "source": [
        "from google.colab import drive\n",
        "drive.mount('/content/drive')"
      ],
      "execution_count": 3,
      "outputs": [
        {
          "output_type": "stream",
          "text": [
            "Go to this URL in a browser: https://accounts.google.com/o/oauth2/auth?client_id=947318989803-6bn6qk8qdgf4n4g3pfee6491hc0brc4i.apps.googleusercontent.com&redirect_uri=urn%3aietf%3awg%3aoauth%3a2.0%3aoob&response_type=code&scope=email%20https%3a%2f%2fwww.googleapis.com%2fauth%2fdocs.test%20https%3a%2f%2fwww.googleapis.com%2fauth%2fdrive%20https%3a%2f%2fwww.googleapis.com%2fauth%2fdrive.photos.readonly%20https%3a%2f%2fwww.googleapis.com%2fauth%2fpeopleapi.readonly\n",
            "\n",
            "Enter your authorization code:\n",
            "··········\n",
            "Mounted at /content/drive\n"
          ],
          "name": "stdout"
        }
      ]
    },
    {
      "cell_type": "code",
      "metadata": {
        "id": "UtLITFrw95Y4",
        "colab_type": "code",
        "outputId": "772ac5fc-7e37-49d8-d1da-0b0bfadc3e97",
        "colab": {
          "base_uri": "https://localhost:8080/",
          "height": 248
        }
      },
      "source": [
        "pip install pyspark"
      ],
      "execution_count": 4,
      "outputs": [
        {
          "output_type": "stream",
          "text": [
            "Collecting pyspark\n",
            "\u001b[?25l  Downloading https://files.pythonhosted.org/packages/87/21/f05c186f4ddb01d15d0ddc36ef4b7e3cedbeb6412274a41f26b55a650ee5/pyspark-2.4.4.tar.gz (215.7MB)\n",
            "\u001b[K     |████████████████████████████████| 215.7MB 25kB/s \n",
            "\u001b[?25hCollecting py4j==0.10.7\n",
            "\u001b[?25l  Downloading https://files.pythonhosted.org/packages/e3/53/c737818eb9a7dc32a7cd4f1396e787bd94200c3997c72c1dbe028587bd76/py4j-0.10.7-py2.py3-none-any.whl (197kB)\n",
            "\u001b[K     |████████████████████████████████| 204kB 42.7MB/s \n",
            "\u001b[?25hBuilding wheels for collected packages: pyspark\n",
            "  Building wheel for pyspark (setup.py) ... \u001b[?25l\u001b[?25hdone\n",
            "  Created wheel for pyspark: filename=pyspark-2.4.4-py2.py3-none-any.whl size=216130387 sha256=3085eb27f4cc2cd3ee917724bf130a8ec65164d87d88e01065dab78e24dc171d\n",
            "  Stored in directory: /root/.cache/pip/wheels/ab/09/4d/0d184230058e654eb1b04467dbc1292f00eaa186544604b471\n",
            "Successfully built pyspark\n",
            "Installing collected packages: py4j, pyspark\n",
            "Successfully installed py4j-0.10.7 pyspark-2.4.4\n"
          ],
          "name": "stdout"
        }
      ]
    },
    {
      "cell_type": "code",
      "metadata": {
        "id": "H7PnE3ZKCL89",
        "colab_type": "code",
        "colab": {}
      },
      "source": [
        "from pyspark import SparkContext\n",
        "from pyspark.sql import SparkSession\n",
        "\n"
      ],
      "execution_count": 0,
      "outputs": []
    },
    {
      "cell_type": "code",
      "metadata": {
        "id": "GhzMryPAStJr",
        "colab_type": "code",
        "outputId": "75e2c20d-c176-42c6-aedb-c286c717156a",
        "colab": {
          "base_uri": "https://localhost:8080/",
          "height": 124
        }
      },
      "source": [
        "#Data files in My Drive\n",
        "!ls \"/content/drive/My Drive/data\""
      ],
      "execution_count": 6,
      "outputs": [
        {
          "output_type": "stream",
          "text": [
            "raw_1987.csv.bz2  raw_1993.csv.bz2  raw_1999.csv.bz2  raw_2005.csv.bz2\n",
            "raw_1988.csv.bz2  raw_1994.csv.bz2  raw_2000.csv.bz2  raw_2006.csv.bz2\n",
            "raw_1989.csv.bz2  raw_1995.csv.bz2  raw_2001.csv.bz2  raw_2007.csv.bz2\n",
            "raw_1990.csv.bz2  raw_1996.csv.bz2  raw_2002.csv.bz2  raw_2008.csv.bz2\n",
            "raw_1991.csv.bz2  raw_1997.csv.bz2  raw_2003.csv.bz2\n",
            "raw_1992.csv.bz2  raw_1998.csv.bz2  raw_2004.csv.bz2\n"
          ],
          "name": "stdout"
        }
      ]
    },
    {
      "cell_type": "code",
      "metadata": {
        "colab_type": "code",
        "id": "RYrGJ6ET45MY",
        "colab": {}
      },
      "source": [
        "\n",
        "\n",
        "spark = SparkSession.builder.appName(\"Flight Carrier Count\").master(\"local[*]\").getOrCreate()\n"
      ],
      "execution_count": 0,
      "outputs": []
    },
    {
      "cell_type": "code",
      "metadata": {
        "id": "CDhDSgnqDULA",
        "colab_type": "code",
        "colab": {}
      },
      "source": [
        "# Dataframe Creation and Loading data\n",
        "carrier_rdd = spark.read.options(header=\"true\",inferschema = \"true\").csv('/content/drive/My Drive/data/*.csv.bz2')\n"
      ],
      "execution_count": 0,
      "outputs": []
    },
    {
      "cell_type": "code",
      "metadata": {
        "id": "hc1Ddfu_aLqr",
        "colab_type": "code",
        "colab": {
          "base_uri": "https://localhost:8080/",
          "height": 532
        },
        "outputId": "2c4c97e9-06c2-4bb0-9057-d9d1e2390ccf"
      },
      "source": [
        "#Dataset Columns types\n",
        "carrier_rdd.dtypes"
      ],
      "execution_count": 7,
      "outputs": [
        {
          "output_type": "execute_result",
          "data": {
            "text/plain": [
              "[('Year', 'int'),\n",
              " ('Month', 'int'),\n",
              " ('DayofMonth', 'int'),\n",
              " ('DayOfWeek', 'int'),\n",
              " ('DepTime', 'string'),\n",
              " ('CRSDepTime', 'int'),\n",
              " ('ArrTime', 'string'),\n",
              " ('CRSArrTime', 'int'),\n",
              " ('UniqueCarrier', 'string'),\n",
              " ('FlightNum', 'int'),\n",
              " ('TailNum', 'string'),\n",
              " ('ActualElapsedTime', 'string'),\n",
              " ('CRSElapsedTime', 'string'),\n",
              " ('AirTime', 'string'),\n",
              " ('ArrDelay', 'string'),\n",
              " ('DepDelay', 'string'),\n",
              " ('Origin', 'string'),\n",
              " ('Dest', 'string'),\n",
              " ('Distance', 'string'),\n",
              " ('TaxiIn', 'string'),\n",
              " ('TaxiOut', 'string'),\n",
              " ('Cancelled', 'int'),\n",
              " ('CancellationCode', 'string'),\n",
              " ('Diverted', 'int'),\n",
              " ('CarrierDelay', 'string'),\n",
              " ('WeatherDelay', 'string'),\n",
              " ('NASDelay', 'string'),\n",
              " ('SecurityDelay', 'string'),\n",
              " ('LateAircraftDelay', 'string')]"
            ]
          },
          "metadata": {
            "tags": []
          },
          "execution_count": 7
        }
      ]
    },
    {
      "cell_type": "code",
      "metadata": {
        "id": "r2TU14aYbgXa",
        "colab_type": "code",
        "colab": {
          "base_uri": "https://localhost:8080/",
          "height": 621
        },
        "outputId": "9064415a-1cc8-40ed-cf53-4fc52bb50cca"
      },
      "source": [
        "# UniqueCarrier in Dataset\n",
        "carrier_rdd.select(\"UniqueCarrier\").distinct().show(100)"
      ],
      "execution_count": 9,
      "outputs": [
        {
          "output_type": "stream",
          "text": [
            "+-------------+\n",
            "|UniqueCarrier|\n",
            "+-------------+\n",
            "|           UA|\n",
            "|           EA|\n",
            "|           PI|\n",
            "|           PS|\n",
            "|           AA|\n",
            "|           NW|\n",
            "|           EV|\n",
            "|           B6|\n",
            "|           HP|\n",
            "|           TW|\n",
            "|           DL|\n",
            "|           OO|\n",
            "|           F9|\n",
            "|           YV|\n",
            "|           TZ|\n",
            "|           US|\n",
            "|           AQ|\n",
            "|           MQ|\n",
            "|           OH|\n",
            "|           HA|\n",
            "|       ML (1)|\n",
            "|           XE|\n",
            "|           DH|\n",
            "|           AS|\n",
            "|           FL|\n",
            "|           CO|\n",
            "|       PA (1)|\n",
            "|           WN|\n",
            "|           9E|\n",
            "+-------------+\n",
            "\n"
          ],
          "name": "stdout"
        }
      ]
    },
    {
      "cell_type": "code",
      "metadata": {
        "id": "drUPKaobikhE",
        "colab_type": "code",
        "colab": {}
      },
      "source": [
        "carrierView = carrier_rdd.createOrReplaceTempView(\"carriers\")"
      ],
      "execution_count": 0,
      "outputs": []
    },
    {
      "cell_type": "code",
      "metadata": {
        "colab_type": "code",
        "outputId": "50c1ccd7-725d-49e8-adb8-88bb58fa35f3",
        "id": "Xiv-D_Zm3rqx",
        "colab": {
          "base_uri": "https://localhost:8080/",
          "height": 124
        }
      },
      "source": [
        "query = \"select count(*) from carriers where UniqueCarrier='EA'\";\n",
        "\n",
        "spark.sql(query).show();"
      ],
      "execution_count": 11,
      "outputs": [
        {
          "output_type": "stream",
          "text": [
            "+--------+\n",
            "|count(1)|\n",
            "+--------+\n",
            "|  919785|\n",
            "+--------+\n",
            "\n"
          ],
          "name": "stdout"
        }
      ]
    },
    {
      "cell_type": "code",
      "metadata": {
        "id": "92vPNhLWln89",
        "colab_type": "code",
        "colab": {}
      },
      "source": [
        "#UniqueCarrier Count\n",
        "query =  \"SELECT UniqueCarrier ,COUNT (*) FROM carriers group by UniqueCarrier\";\n",
        "unique_carriers_df =spark.sql(query);"
      ],
      "execution_count": 0,
      "outputs": []
    },
    {
      "cell_type": "code",
      "metadata": {
        "colab_type": "code",
        "outputId": "7ed1d84c-b8b8-4994-9fe1-3993e6222c2f",
        "id": "_PGJ2LYo3pKR",
        "colab": {
          "base_uri": "https://localhost:8080/",
          "height": 621
        }
      },
      "source": [
        "unique_carriers_df.show(29)"
      ],
      "execution_count": 13,
      "outputs": [
        {
          "output_type": "stream",
          "text": [
            "+-------------+--------+\n",
            "|UniqueCarrier|count(1)|\n",
            "+-------------+--------+\n",
            "|           UA|13299817|\n",
            "|           EA|  919785|\n",
            "|           PI|  873957|\n",
            "|           PS|   83617|\n",
            "|           AA|14984647|\n",
            "|           NW|10292627|\n",
            "|           EV| 1697172|\n",
            "|           B6|  811341|\n",
            "|           HP| 3636682|\n",
            "|           TW| 3757747|\n",
            "|           DL|16547870|\n",
            "|           OO| 3090853|\n",
            "|           F9|  336958|\n",
            "|           YV|  854056|\n",
            "|           TZ|  208420|\n",
            "|           US|14075530|\n",
            "|           AQ|  154381|\n",
            "|           MQ| 3954895|\n",
            "|           OH| 1464176|\n",
            "|           HA|  274265|\n",
            "|       ML (1)|   70622|\n",
            "|           XE| 2350309|\n",
            "|           DH|  693047|\n",
            "|           AS| 2878021|\n",
            "|           FL| 1265138|\n",
            "|           CO| 8145788|\n",
            "|       PA (1)|  316167|\n",
            "|           WN|15976022|\n",
            "|           9E|  521059|\n",
            "+-------------+--------+\n",
            "\n"
          ],
          "name": "stdout"
        }
      ]
    }
  ]
}